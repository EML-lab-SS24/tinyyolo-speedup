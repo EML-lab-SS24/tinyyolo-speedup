{
 "cells": [
  {
   "cell_type": "code",
   "execution_count": 1,
   "id": "b1da46e1-74e3-4f91-bbab-f0f2b7f6047a",
   "metadata": {},
   "outputs": [],
   "source": [
    "import torch\n",
    "from typing import Dict, List\n",
    "from models.pruned_my_tinyyolo2 import PrunedMyTinyYoloV2\n",
    "from utils.dataloader import VOCDataLoaderPerson\n",
    "from models.tinyyolov2 import TinyYoloV2\n",
    "from models.my_tinyyolov2 import MyTinyYoloV2\n",
    "import tqdm\n",
    "import time\n",
    "from utils.ap import precision_recall_levels, ap\n",
    "from utils.yolo import nms, filter_boxes\n",
    "from utils.viz import display_result\n",
    "from utils.utils import plot\n",
    "import numpy as np\n",
    "\n",
    "device = torch.device(\"cuda\") if torch.cuda.is_available() else torch.device(\"cpu\")"
   ]
  },
  {
   "cell_type": "code",
   "execution_count": 2,
   "id": "07538f74-13aa-418a-9ffd-fdcfac1b2f54",
   "metadata": {},
   "outputs": [],
   "source": [
    "def net_acc_and_time(model_class: torch.nn.Module,\n",
    "            state_dict: Dict,\n",
    "            testloader: torch.utils.data.DataLoader,\n",
    "            num_classes=1,\n",
    "            device=torch.device(\"cpu\"), batches: int=10,\n",
    "            filter_threshold=0.0375, nms_threshold=0.6) -> float:\n",
    "\n",
    "    net = model_class(num_classes=num_classes)\n",
    "    \n",
    "    net.load_state_dict(state_dict)\n",
    "    net.to(device)\n",
    "    net.eval()\n",
    "    precision = []\n",
    "    recall = []\n",
    "    times = []\n",
    "    \n",
    "    for idx, (inputs, targets) in tqdm.tqdm(enumerate(testloader), total=len(testloader)):\n",
    "        inputs = inputs.to(device)\n",
    "        t_start = time.time()\n",
    "        outputs = net(inputs)\n",
    "        outputs = outputs.cpu()\n",
    "        #filter boxes based on confidence score (class_score*confidence)\n",
    "        outputs = filter_boxes(outputs, filter_threshold)\n",
    "        #filter boxes based on overlap\n",
    "        outputs = nms(outputs, nms_threshold)\n",
    "        t_end = time.time()\n",
    "        times.append(t_end - t_start)\n",
    "        \n",
    "        #display_result(inputs, outputs, targets, file_path='yolo_prediction.png')\n",
    "        \n",
    "        for i in range(len(outputs)):\n",
    "            p, r = precision_recall_levels(targets[i], outputs[i])\n",
    "            precision.append(p)\n",
    "            recall.append(r)\n",
    "\n",
    "    \n",
    "    return round(100*ap(precision, recall), 2), np.mean(times)"
   ]
  },
  {
   "cell_type": "code",
   "execution_count": 2,
   "id": "41f69cb0-f44c-490a-8cd7-9c79ed2c7f6d",
   "metadata": {},
   "outputs": [],
   "source": [
    "def net_acc_and_time_onnx(ort_sess,\n",
    "            testloader: torch.utils.data.DataLoader,\n",
    "            num_classes=1,\n",
    "            device=torch.device(\"cpu\"), batches: int=10,\n",
    "            filter_threshold=0.0375, nms_threshold=0.6) -> float:\n",
    "\n",
    "    precision = []\n",
    "    recall = []\n",
    "    times = []\n",
    "    \n",
    "    for idx, (inputs, targets) in tqdm.tqdm(enumerate(testloader), total=len(testloader)):\n",
    "        inputs = inputs.to(device)\n",
    "        t_start = time.time()\n",
    "        output = torch.from_numpy(ort_sess.run(None, {'input': torch_image.numpy()})[0])\n",
    "        #filter boxes based on confidence score (class_score*confidence)\n",
    "        outputs = filter_boxes(outputs, filter_threshold)\n",
    "        #filter boxes based on overlap\n",
    "        outputs = nms(outputs, nms_threshold)\n",
    "        t_end = time.time()\n",
    "        times.append(t_end - t_start)\n",
    "        \n",
    "        #display_result(inputs, outputs, targets, file_path='yolo_prediction.png')\n",
    "        \n",
    "        for i in range(len(outputs)):\n",
    "            p, r = precision_recall_levels(targets[i], outputs[i])\n",
    "            precision.append(p)\n",
    "            recall.append(r)\n",
    "\n",
    "    \n",
    "    return round(100*ap(precision, recall), 2), np.mean(times)"
   ]
  },
  {
   "cell_type": "code",
   "execution_count": null,
   "id": "3b532514-c30e-4ecb-9200-2581c89615f3",
   "metadata": {},
   "outputs": [],
   "source": [
    "\"\"\"names = [\"pretrained\", \"finetuned_10\", \"fused_10\", \"pruned_10\"]\n",
    "\n",
    "models = [TinyYoloV2, TinyYoloV2, MyTinyYoloV2, PrunedMyTinyYoloV2]\n",
    "\n",
    "filter_thresholds = [0.0125, 0.000, 0.005, 0.15]\n",
    "nms_thresholds = [0.4, 0.55, 0.525, 0.4]\"\"\"\n",
    "names = [\"pruned_10\"]\n",
    "\n",
    "models = [PrunedMyTinyYoloV2]\n",
    "\n",
    "filter_thresholds = [0.4]\n",
    "nms_thresholds = [0.0]\n",
    "\n",
    "#accs, times = [], []\n",
    "\n",
    "for i in range(len(names)):\n",
    "    #num_classes = 20 if i == 0 else 1\n",
    "    num_classes = 1\n",
    "    sd = torch.load(f\"models/configs/voc_{names[i]}.pt\")\n",
    "    acc, t = net_acc_and_time(models[i], sd, VOCDataLoaderPerson(train=False, batch_size=1, shuffle=True), num_classes, batches=4, device=device, filter_threshold=filter_thresholds[i], nms_threshold=nms_thresholds[i])\n",
    "    accs.append(acc)\n",
    "    times.append(t)\n",
    "    print(f\"{names[i]}: Acc: {acc}, time: {t}\")"
   ]
  },
  {
   "cell_type": "code",
   "execution_count": null,
   "id": "4620b0b7-9f71-4ca4-9686-3aee2d740ffc",
   "metadata": {},
   "outputs": [],
   "source": [
    "names = [\"9x05x55\"]\n",
    "\n",
    "\n",
    "filter_thresholds = [0.4]\n",
    "nms_thresholds = [0.0]\n",
    "\n",
    "#accs, times = [], []\n",
    "\n",
    "for i in range(len(names)):\n",
    "    #num_classes = 20 if i == 0 else 1\n",
    "    num_classes = 1\n",
    "    ort_sess = ort.InferenceSession(f'onnx_models/{names[i]}.onnx')\n",
    "    acc, t = net_acc_and_time_onnx(models[i], VOCDataLoaderPerson(train=False, batch_size=1, shuffle=True), num_classes, batches=4, device=device, filter_threshold=filter_thresholds[i], nms_threshold=nms_thresholds[i])\n",
    "    accs.append(acc)\n",
    "    times.append(t)\n",
    "    print(f\"{names[i]}: Acc: {acc}, time: {t}\")"
   ]
  },
  {
   "cell_type": "code",
   "execution_count": 8,
   "id": "b70aeded-61e3-4ea5-b134-d95c39797618",
   "metadata": {},
   "outputs": [
    {
     "ename": "ValueError",
     "evalue": "x and y must have same first dimension, but have shapes (4,) and (0,)",
     "output_type": "error",
     "traceback": [
      "\u001b[0;31m---------------------------------------------------------------------------\u001b[0m",
      "\u001b[0;31mValueError\u001b[0m                                Traceback (most recent call last)",
      "\u001b[0;32m<ipython-input-8-2620ba480c93>\u001b[0m in \u001b[0;36m<module>\u001b[0;34m\u001b[0m\n\u001b[1;32m      1\u001b[0m plot([(list(range(4)), accs, 'accuracy')],\n\u001b[0;32m----> 2\u001b[0;31m       xlabel='index', save_path='testing.png')\n\u001b[0m\u001b[1;32m      3\u001b[0m plot([(list(range(4)), times, 'time')],\n\u001b[1;32m      4\u001b[0m       xlabel='index', save_path='testingtime.png')\n",
      "\u001b[0;32m~/embedded-ml-lab-students-ss24/exercises/4-challenge/utils/utils.py\u001b[0m in \u001b[0;36mplot\u001b[0;34m(data, xlabel, save_path)\u001b[0m\n\u001b[1;32m    104\u001b[0m     \u001b[0;32mfor\u001b[0m \u001b[0;34m(\u001b[0m\u001b[0mx\u001b[0m\u001b[0;34m,\u001b[0m \u001b[0my\u001b[0m\u001b[0;34m,\u001b[0m \u001b[0mlabel\u001b[0m\u001b[0;34m)\u001b[0m \u001b[0;32min\u001b[0m \u001b[0mdata\u001b[0m\u001b[0;34m:\u001b[0m\u001b[0;34m\u001b[0m\u001b[0;34m\u001b[0m\u001b[0m\n\u001b[1;32m    105\u001b[0m         \u001b[0mx\u001b[0m \u001b[0;34m=\u001b[0m \u001b[0mnp\u001b[0m\u001b[0;34m.\u001b[0m\u001b[0marray\u001b[0m\u001b[0;34m(\u001b[0m\u001b[0mx\u001b[0m\u001b[0;34m)\u001b[0m\u001b[0;34m/\u001b[0m\u001b[0mmax\u001b[0m\u001b[0;34m(\u001b[0m\u001b[0mx\u001b[0m\u001b[0;34m)\u001b[0m\u001b[0;34m\u001b[0m\u001b[0;34m\u001b[0m\u001b[0m\n\u001b[0;32m--> 106\u001b[0;31m         \u001b[0mplt\u001b[0m\u001b[0;34m.\u001b[0m\u001b[0mplot\u001b[0m\u001b[0;34m(\u001b[0m\u001b[0mx\u001b[0m\u001b[0;34m,\u001b[0m \u001b[0my\u001b[0m\u001b[0;34m,\u001b[0m \u001b[0mlabel\u001b[0m\u001b[0;34m=\u001b[0m\u001b[0mlabel\u001b[0m\u001b[0;34m,\u001b[0m \u001b[0malpha\u001b[0m\u001b[0;34m=\u001b[0m\u001b[0;36m0.5\u001b[0m\u001b[0;34m)\u001b[0m\u001b[0;34m\u001b[0m\u001b[0;34m\u001b[0m\u001b[0m\n\u001b[0m\u001b[1;32m    107\u001b[0m         \u001b[0mplt\u001b[0m\u001b[0;34m.\u001b[0m\u001b[0mscatter\u001b[0m\u001b[0;34m(\u001b[0m\u001b[0mx\u001b[0m\u001b[0;34m,\u001b[0m \u001b[0my\u001b[0m\u001b[0;34m,\u001b[0m \u001b[0malpha\u001b[0m\u001b[0;34m=\u001b[0m\u001b[0;36m0.5\u001b[0m\u001b[0;34m)\u001b[0m\u001b[0;34m\u001b[0m\u001b[0;34m\u001b[0m\u001b[0m\n\u001b[1;32m    108\u001b[0m \u001b[0;34m\u001b[0m\u001b[0m\n",
      "\u001b[0;32m/usr/local/lib/python3.6/dist-packages/matplotlib/pyplot.py\u001b[0m in \u001b[0;36mplot\u001b[0;34m(scalex, scaley, data, *args, **kwargs)\u001b[0m\n\u001b[1;32m   2840\u001b[0m     return gca().plot(\n\u001b[1;32m   2841\u001b[0m         \u001b[0;34m*\u001b[0m\u001b[0margs\u001b[0m\u001b[0;34m,\u001b[0m \u001b[0mscalex\u001b[0m\u001b[0;34m=\u001b[0m\u001b[0mscalex\u001b[0m\u001b[0;34m,\u001b[0m \u001b[0mscaley\u001b[0m\u001b[0;34m=\u001b[0m\u001b[0mscaley\u001b[0m\u001b[0;34m,\u001b[0m\u001b[0;34m\u001b[0m\u001b[0;34m\u001b[0m\u001b[0m\n\u001b[0;32m-> 2842\u001b[0;31m         **({\"data\": data} if data is not None else {}), **kwargs)\n\u001b[0m\u001b[1;32m   2843\u001b[0m \u001b[0;34m\u001b[0m\u001b[0m\n\u001b[1;32m   2844\u001b[0m \u001b[0;34m\u001b[0m\u001b[0m\n",
      "\u001b[0;32m/usr/local/lib/python3.6/dist-packages/matplotlib/axes/_axes.py\u001b[0m in \u001b[0;36mplot\u001b[0;34m(self, scalex, scaley, data, *args, **kwargs)\u001b[0m\n\u001b[1;32m   1741\u001b[0m         \"\"\"\n\u001b[1;32m   1742\u001b[0m         \u001b[0mkwargs\u001b[0m \u001b[0;34m=\u001b[0m \u001b[0mcbook\u001b[0m\u001b[0;34m.\u001b[0m\u001b[0mnormalize_kwargs\u001b[0m\u001b[0;34m(\u001b[0m\u001b[0mkwargs\u001b[0m\u001b[0;34m,\u001b[0m \u001b[0mmlines\u001b[0m\u001b[0;34m.\u001b[0m\u001b[0mLine2D\u001b[0m\u001b[0;34m)\u001b[0m\u001b[0;34m\u001b[0m\u001b[0;34m\u001b[0m\u001b[0m\n\u001b[0;32m-> 1743\u001b[0;31m         \u001b[0mlines\u001b[0m \u001b[0;34m=\u001b[0m \u001b[0;34m[\u001b[0m\u001b[0;34m*\u001b[0m\u001b[0mself\u001b[0m\u001b[0;34m.\u001b[0m\u001b[0m_get_lines\u001b[0m\u001b[0;34m(\u001b[0m\u001b[0;34m*\u001b[0m\u001b[0margs\u001b[0m\u001b[0;34m,\u001b[0m \u001b[0mdata\u001b[0m\u001b[0;34m=\u001b[0m\u001b[0mdata\u001b[0m\u001b[0;34m,\u001b[0m \u001b[0;34m**\u001b[0m\u001b[0mkwargs\u001b[0m\u001b[0;34m)\u001b[0m\u001b[0;34m]\u001b[0m\u001b[0;34m\u001b[0m\u001b[0;34m\u001b[0m\u001b[0m\n\u001b[0m\u001b[1;32m   1744\u001b[0m         \u001b[0;32mfor\u001b[0m \u001b[0mline\u001b[0m \u001b[0;32min\u001b[0m \u001b[0mlines\u001b[0m\u001b[0;34m:\u001b[0m\u001b[0;34m\u001b[0m\u001b[0;34m\u001b[0m\u001b[0m\n\u001b[1;32m   1745\u001b[0m             \u001b[0mself\u001b[0m\u001b[0;34m.\u001b[0m\u001b[0madd_line\u001b[0m\u001b[0;34m(\u001b[0m\u001b[0mline\u001b[0m\u001b[0;34m)\u001b[0m\u001b[0;34m\u001b[0m\u001b[0;34m\u001b[0m\u001b[0m\n",
      "\u001b[0;32m/usr/local/lib/python3.6/dist-packages/matplotlib/axes/_base.py\u001b[0m in \u001b[0;36m__call__\u001b[0;34m(self, data, *args, **kwargs)\u001b[0m\n\u001b[1;32m    271\u001b[0m                 \u001b[0mthis\u001b[0m \u001b[0;34m+=\u001b[0m \u001b[0margs\u001b[0m\u001b[0;34m[\u001b[0m\u001b[0;36m0\u001b[0m\u001b[0;34m]\u001b[0m\u001b[0;34m,\u001b[0m\u001b[0;34m\u001b[0m\u001b[0;34m\u001b[0m\u001b[0m\n\u001b[1;32m    272\u001b[0m                 \u001b[0margs\u001b[0m \u001b[0;34m=\u001b[0m \u001b[0margs\u001b[0m\u001b[0;34m[\u001b[0m\u001b[0;36m1\u001b[0m\u001b[0;34m:\u001b[0m\u001b[0;34m]\u001b[0m\u001b[0;34m\u001b[0m\u001b[0;34m\u001b[0m\u001b[0m\n\u001b[0;32m--> 273\u001b[0;31m             \u001b[0;32myield\u001b[0m \u001b[0;32mfrom\u001b[0m \u001b[0mself\u001b[0m\u001b[0;34m.\u001b[0m\u001b[0m_plot_args\u001b[0m\u001b[0;34m(\u001b[0m\u001b[0mthis\u001b[0m\u001b[0;34m,\u001b[0m \u001b[0mkwargs\u001b[0m\u001b[0;34m)\u001b[0m\u001b[0;34m\u001b[0m\u001b[0;34m\u001b[0m\u001b[0m\n\u001b[0m\u001b[1;32m    274\u001b[0m \u001b[0;34m\u001b[0m\u001b[0m\n\u001b[1;32m    275\u001b[0m     \u001b[0;32mdef\u001b[0m \u001b[0mget_next_color\u001b[0m\u001b[0;34m(\u001b[0m\u001b[0mself\u001b[0m\u001b[0;34m)\u001b[0m\u001b[0;34m:\u001b[0m\u001b[0;34m\u001b[0m\u001b[0;34m\u001b[0m\u001b[0m\n",
      "\u001b[0;32m/usr/local/lib/python3.6/dist-packages/matplotlib/axes/_base.py\u001b[0m in \u001b[0;36m_plot_args\u001b[0;34m(self, tup, kwargs)\u001b[0m\n\u001b[1;32m    397\u001b[0m \u001b[0;34m\u001b[0m\u001b[0m\n\u001b[1;32m    398\u001b[0m         \u001b[0;32mif\u001b[0m \u001b[0mx\u001b[0m\u001b[0;34m.\u001b[0m\u001b[0mshape\u001b[0m\u001b[0;34m[\u001b[0m\u001b[0;36m0\u001b[0m\u001b[0;34m]\u001b[0m \u001b[0;34m!=\u001b[0m \u001b[0my\u001b[0m\u001b[0;34m.\u001b[0m\u001b[0mshape\u001b[0m\u001b[0;34m[\u001b[0m\u001b[0;36m0\u001b[0m\u001b[0;34m]\u001b[0m\u001b[0;34m:\u001b[0m\u001b[0;34m\u001b[0m\u001b[0;34m\u001b[0m\u001b[0m\n\u001b[0;32m--> 399\u001b[0;31m             raise ValueError(f\"x and y must have same first dimension, but \"\n\u001b[0m\u001b[1;32m    400\u001b[0m                              f\"have shapes {x.shape} and {y.shape}\")\n\u001b[1;32m    401\u001b[0m         \u001b[0;32mif\u001b[0m \u001b[0mx\u001b[0m\u001b[0;34m.\u001b[0m\u001b[0mndim\u001b[0m \u001b[0;34m>\u001b[0m \u001b[0;36m2\u001b[0m \u001b[0;32mor\u001b[0m \u001b[0my\u001b[0m\u001b[0;34m.\u001b[0m\u001b[0mndim\u001b[0m \u001b[0;34m>\u001b[0m \u001b[0;36m2\u001b[0m\u001b[0;34m:\u001b[0m\u001b[0;34m\u001b[0m\u001b[0;34m\u001b[0m\u001b[0m\n",
      "\u001b[0;31mValueError\u001b[0m: x and y must have same first dimension, but have shapes (4,) and (0,)"
     ]
    },
    {
     "data": {
      "image/png": "[encoded data removed]",
      "text/plain": [
       "<Figure size 432x288 with 1 Axes>"
      ]
     },
     "metadata": {
      "needs_background": "light"
     },
     "output_type": "display_data"
    }
   ],
   "source": [
    "plot([(list(range(4)), accs, 'accuracy')],\n",
    "      xlabel='index', save_path='testing.png')\n",
    "plot([(list(range(4)), times, 'time')],\n",
    "      xlabel='index', save_path='testingtime.png')"
   ]
  },
  {
   "cell_type": "code",
   "execution_count": null,
   "id": "f06a80c8-18e8-45df-9bc7-07f1630348d3",
   "metadata": {},
   "outputs": [],
   "source": []
  }
 ],
 "metadata": {
  "kernelspec": {
   "display_name": "Python 3",
   "language": "python",
   "name": "python3"
  },
  "language_info": {
   "codemirror_mode": {
    "name": "ipython",
    "version": 3
   },
   "file_extension": ".py",
   "mimetype": "text/x-python",
   "name": "python",
   "nbconvert_exporter": "python",
   "pygments_lexer": "ipython3",
   "version": "3.6.9"
  }
 },
 "nbformat": 4,
 "nbformat_minor": 5
}
