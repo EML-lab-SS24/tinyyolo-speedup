{
 "cells": [
  {
   "cell_type": "code",
   "execution_count": 1,
   "id": "c3d448a2-2fc0-4f95-85c9-e55f21a84139",
   "metadata": {},
   "outputs": [],
   "source": [
    "import torch\n",
    "from models.tinyyolov2 import TinyYoloV2\n",
    "from models.tinyyolov2 import TinyYoloV2\n",
    "from models.my_tinyyolov2 import MyTinyYoloV2\n",
    "from models.pruned_my_tinyyolo2 import PrunedMyTinyYoloV2"
   ]
  },
  {
   "cell_type": "code",
   "execution_count": 2,
   "id": "6291b964-12f3-4fa9-9bd1-a46e7558ff40",
   "metadata": {},
   "outputs": [],
   "source": [
    "torch_input = torch.randn(1, 3, 320, 320)"
   ]
  },
  {
   "cell_type": "code",
   "execution_count": 4,
   "id": "85d539a5-666d-4d38-8761-07032de37b86",
   "metadata": {},
   "outputs": [
    {
     "name": "stderr",
     "output_type": "stream",
     "text": [
      "/home/artemis/Documents/Coding/EML-Lab/ml-lab-ss24-challenge/models/my_tinyyolov2.py:74: TracerWarning: Converting a tensor to a Python boolean might cause the trace to be incorrect. We can't record the data flow of Python values, so this value will be treated as a constant in the future. This means that the trace might not generalize to other inputs!\n",
      "  if yolo:\n"
     ]
    }
   ],
   "source": [
    "names = [\"pretrained\", \"finetuned\", \"fused\", \"pruned5\"]\n",
    "\n",
    "models = [TinyYoloV2, TinyYoloV2, MyTinyYoloV2, PrunedMyTinyYoloV2]\n",
    "\n",
    "for i in range(len(names)):\n",
    "    num_classes = 20 if i == 0 else 1\n",
    "    sd = torch.load(f\"models/configs/voc_{names[i]}.pt\")\n",
    "    \n",
    "    net = models[i](num_classes=num_classes)\n",
    "    \n",
    "    net.load_state_dict(sd)\n",
    "    \n",
    "    onnx_program = torch.onnx.export(net, torch_input, f\"onnx_models/{names[i]}.onnx\", input_names = ['input'])"
   ]
  },
  {
   "cell_type": "code",
   "execution_count": null,
   "id": "1a40fea0-03ad-4f35-9568-00f840340e8f",
   "metadata": {},
   "outputs": [],
   "source": []
  }
 ],
 "metadata": {
  "kernelspec": {
   "display_name": "Python 3 (ipykernel)",
   "language": "python",
   "name": "python3"
  },
  "language_info": {
   "codemirror_mode": {
    "name": "ipython",
    "version": 3
   },
   "file_extension": ".py",
   "mimetype": "text/x-python",
   "name": "python",
   "nbconvert_exporter": "python",
   "pygments_lexer": "ipython3",
   "version": "3.12.3"
  }
 },
 "nbformat": 4,
 "nbformat_minor": 5
}
